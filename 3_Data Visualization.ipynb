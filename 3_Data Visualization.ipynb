{
 "cells": [
  {
   "cell_type": "markdown",
   "metadata": {},
   "source": [
    "## 1. Preparasi"
   ]
  },
  {
   "cell_type": "code",
   "execution_count": 1,
   "metadata": {},
   "outputs": [],
   "source": [
    "import pandas as pd\n",
    "import numpy as np\n",
    "\n",
    "import matplotlib.pyplot as plt\n",
    "import seaborn as sns\n",
    "\n",
    "import warnings\n",
    "warnings.filterwarnings('ignore')"
   ]
  },
  {
   "cell_type": "code",
   "execution_count": 2,
   "metadata": {},
   "outputs": [],
   "source": [
    "#buat fungsi untuk reduce memory.\n",
    "#intinya adalah iterasi keseluruh kolom pada dataframe dan mengubah datatype yg memorynya paling kecil.\n",
    "def reduce_mem_usage(df):\n",
    "    \n",
    "    start_mem = df.memory_usage().sum() / 1024**2\n",
    "    print('Memory usage of dataframe is {:.2f} MB'.format(start_mem))\n",
    "    \n",
    "    for col in df.columns:\n",
    "        col_type = df[col].dtype\n",
    "        \n",
    "        if col_type != object:\n",
    "            c_min = df[col].min()\n",
    "            c_max = df[col].max()\n",
    "            if str(col_type)[:3] == 'int':\n",
    "                if c_min > np.iinfo(np.int8).min and c_max < np.iinfo(np.int8).max:\n",
    "                    df[col] = df[col].astype(np.int8)\n",
    "                elif c_min > np.iinfo(np.int16).min and c_max < np.iinfo(np.int16).max:\n",
    "                    df[col] = df[col].astype(np.int16)\n",
    "                elif c_min > np.iinfo(np.int32).min and c_max < np.iinfo(np.int32).max:\n",
    "                    df[col] = df[col].astype(np.int32)\n",
    "                elif c_min > np.iinfo(np.int64).min and c_max < np.iinfo(np.int64).max:\n",
    "                    df[col] = df[col].astype(np.int64)  \n",
    "            else:\n",
    "                if c_min > np.finfo(np.float16).min and c_max < np.finfo(np.float16).max:\n",
    "                    df[col] = df[col].astype(np.float16)\n",
    "                elif c_min > np.finfo(np.float32).min and c_max < np.finfo(np.float32).max:\n",
    "                    df[col] = df[col].astype(np.float32)\n",
    "                else:\n",
    "                    df[col] = df[col].astype(np.float64)\n",
    "        else:\n",
    "            df[col] = df[col].astype('category')\n",
    "\n",
    "    end_mem = df.memory_usage().sum() / 1024**2\n",
    "    \n",
    "    print('Memory usage after optimization is: {:.2f} MB'.format(end_mem))\n",
    "    print('Decreased by {:.1f}%'.format(100 * (start_mem - end_mem) / start_mem))\n",
    "    \n",
    "    return df\n",
    "\n",
    "#fungsi untuk memanggil dataframe\n",
    "def import_data(file):\n",
    "    df = pd.read_csv(file, parse_dates=True, keep_date_col=True)\n",
    "    df = reduce_mem_usage(df)\n",
    "    return df"
   ]
  },
  {
   "cell_type": "code",
   "execution_count": 3,
   "metadata": {},
   "outputs": [
    {
     "name": "stdout",
     "output_type": "stream",
     "text": [
      "Memory usage of dataframe is 834.43 MB\n",
      "Memory usage after optimization is: 226.95 MB\n",
      "Decreased by 72.8%\n"
     ]
    }
   ],
   "source": [
    "data = import_data('G:\\\\Bootcamp\\\\Materi\\\\28. NoSQL\\\\home credit\\\\data\\\\data_final.csv')"
   ]
  },
  {
   "cell_type": "code",
   "execution_count": 4,
   "metadata": {},
   "outputs": [],
   "source": [
    "data.drop(columns=['Unnamed: 0', 'Unnamed: 0.1'], inplace=True)"
   ]
  },
  {
   "cell_type": "code",
   "execution_count": 5,
   "metadata": {},
   "outputs": [
    {
     "data": {
      "text/html": [
       "<div>\n",
       "<style scoped>\n",
       "    .dataframe tbody tr th:only-of-type {\n",
       "        vertical-align: middle;\n",
       "    }\n",
       "\n",
       "    .dataframe tbody tr th {\n",
       "        vertical-align: top;\n",
       "    }\n",
       "\n",
       "    .dataframe thead th {\n",
       "        text-align: right;\n",
       "    }\n",
       "</style>\n",
       "<table border=\"1\" class=\"dataframe\">\n",
       "  <thead>\n",
       "    <tr style=\"text-align: right;\">\n",
       "      <th></th>\n",
       "      <th>AMT_ANNUITY</th>\n",
       "      <th>AMT_CREDIT</th>\n",
       "      <th>AMT_GOODS_PRICE</th>\n",
       "      <th>AMT_INCOME_TOTAL</th>\n",
       "      <th>AMT_REQ_CREDIT_BUREAU_DAY</th>\n",
       "      <th>AMT_REQ_CREDIT_BUREAU_HOUR</th>\n",
       "      <th>AMT_REQ_CREDIT_BUREAU_MON</th>\n",
       "      <th>AMT_REQ_CREDIT_BUREAU_QRT</th>\n",
       "      <th>AMT_REQ_CREDIT_BUREAU_WEEK</th>\n",
       "      <th>AMT_REQ_CREDIT_BUREAU_YEAR</th>\n",
       "      <th>...</th>\n",
       "      <th>TOTALAREA_MODE</th>\n",
       "      <th>WALLSMATERIAL_MODE</th>\n",
       "      <th>WEEKDAY_APPR_PROCESS_START</th>\n",
       "      <th>YEARS_BEGINEXPLUATATION_AVG</th>\n",
       "      <th>YEARS_BEGINEXPLUATATION_MEDI</th>\n",
       "      <th>YEARS_BEGINEXPLUATATION_MODE</th>\n",
       "      <th>YEARS_BUILD_AVG</th>\n",
       "      <th>YEARS_BUILD_MEDI</th>\n",
       "      <th>YEARS_BUILD_MODE</th>\n",
       "      <th>TARGET</th>\n",
       "    </tr>\n",
       "  </thead>\n",
       "  <tbody>\n",
       "    <tr>\n",
       "      <th>0</th>\n",
       "      <td>24700.5</td>\n",
       "      <td>406597.5</td>\n",
       "      <td>351000.0</td>\n",
       "      <td>202500.0</td>\n",
       "      <td>0.0</td>\n",
       "      <td>0.0</td>\n",
       "      <td>0.0</td>\n",
       "      <td>0.0</td>\n",
       "      <td>0.0</td>\n",
       "      <td>1.0</td>\n",
       "      <td>...</td>\n",
       "      <td>0.014900</td>\n",
       "      <td>64815.0</td>\n",
       "      <td>51934</td>\n",
       "      <td>0.972168</td>\n",
       "      <td>0.972168</td>\n",
       "      <td>0.972168</td>\n",
       "      <td>0.619141</td>\n",
       "      <td>0.624512</td>\n",
       "      <td>0.634277</td>\n",
       "      <td>1.0</td>\n",
       "    </tr>\n",
       "    <tr>\n",
       "      <th>1</th>\n",
       "      <td>35698.5</td>\n",
       "      <td>1293502.5</td>\n",
       "      <td>1129500.0</td>\n",
       "      <td>270000.0</td>\n",
       "      <td>0.0</td>\n",
       "      <td>0.0</td>\n",
       "      <td>0.0</td>\n",
       "      <td>0.0</td>\n",
       "      <td>0.0</td>\n",
       "      <td>0.0</td>\n",
       "      <td>...</td>\n",
       "      <td>0.071411</td>\n",
       "      <td>9253.0</td>\n",
       "      <td>50714</td>\n",
       "      <td>0.984863</td>\n",
       "      <td>0.984863</td>\n",
       "      <td>0.984863</td>\n",
       "      <td>0.795898</td>\n",
       "      <td>0.798828</td>\n",
       "      <td>0.804199</td>\n",
       "      <td>0.0</td>\n",
       "    </tr>\n",
       "    <tr>\n",
       "      <th>2</th>\n",
       "      <td>6750.0</td>\n",
       "      <td>135000.0</td>\n",
       "      <td>135000.0</td>\n",
       "      <td>67500.0</td>\n",
       "      <td>0.0</td>\n",
       "      <td>0.0</td>\n",
       "      <td>0.0</td>\n",
       "      <td>0.0</td>\n",
       "      <td>0.0</td>\n",
       "      <td>0.0</td>\n",
       "      <td>...</td>\n",
       "      <td>0.068970</td>\n",
       "      <td>64815.0</td>\n",
       "      <td>50714</td>\n",
       "      <td>0.981445</td>\n",
       "      <td>0.981445</td>\n",
       "      <td>0.981445</td>\n",
       "      <td>0.755371</td>\n",
       "      <td>0.758301</td>\n",
       "      <td>0.764648</td>\n",
       "      <td>0.0</td>\n",
       "    </tr>\n",
       "    <tr>\n",
       "      <th>3</th>\n",
       "      <td>29686.5</td>\n",
       "      <td>312682.5</td>\n",
       "      <td>297000.0</td>\n",
       "      <td>135000.0</td>\n",
       "      <td>0.0</td>\n",
       "      <td>0.0</td>\n",
       "      <td>0.0</td>\n",
       "      <td>0.0</td>\n",
       "      <td>0.0</td>\n",
       "      <td>1.0</td>\n",
       "      <td>...</td>\n",
       "      <td>0.068970</td>\n",
       "      <td>64815.0</td>\n",
       "      <td>51934</td>\n",
       "      <td>0.981445</td>\n",
       "      <td>0.981445</td>\n",
       "      <td>0.981445</td>\n",
       "      <td>0.755371</td>\n",
       "      <td>0.758301</td>\n",
       "      <td>0.764648</td>\n",
       "      <td>0.0</td>\n",
       "    </tr>\n",
       "    <tr>\n",
       "      <th>4</th>\n",
       "      <td>21865.5</td>\n",
       "      <td>513000.0</td>\n",
       "      <td>513000.0</td>\n",
       "      <td>121500.0</td>\n",
       "      <td>0.0</td>\n",
       "      <td>0.0</td>\n",
       "      <td>0.0</td>\n",
       "      <td>0.0</td>\n",
       "      <td>0.0</td>\n",
       "      <td>0.0</td>\n",
       "      <td>...</td>\n",
       "      <td>0.068970</td>\n",
       "      <td>64815.0</td>\n",
       "      <td>50591</td>\n",
       "      <td>0.981445</td>\n",
       "      <td>0.981445</td>\n",
       "      <td>0.981445</td>\n",
       "      <td>0.755371</td>\n",
       "      <td>0.758301</td>\n",
       "      <td>0.764648</td>\n",
       "      <td>0.0</td>\n",
       "    </tr>\n",
       "  </tbody>\n",
       "</table>\n",
       "<p>5 rows × 305 columns</p>\n",
       "</div>"
      ],
      "text/plain": [
       "   AMT_ANNUITY  AMT_CREDIT  AMT_GOODS_PRICE  AMT_INCOME_TOTAL  \\\n",
       "0      24700.5    406597.5         351000.0          202500.0   \n",
       "1      35698.5   1293502.5        1129500.0          270000.0   \n",
       "2       6750.0    135000.0         135000.0           67500.0   \n",
       "3      29686.5    312682.5         297000.0          135000.0   \n",
       "4      21865.5    513000.0         513000.0          121500.0   \n",
       "\n",
       "   AMT_REQ_CREDIT_BUREAU_DAY  AMT_REQ_CREDIT_BUREAU_HOUR  \\\n",
       "0                        0.0                         0.0   \n",
       "1                        0.0                         0.0   \n",
       "2                        0.0                         0.0   \n",
       "3                        0.0                         0.0   \n",
       "4                        0.0                         0.0   \n",
       "\n",
       "   AMT_REQ_CREDIT_BUREAU_MON  AMT_REQ_CREDIT_BUREAU_QRT  \\\n",
       "0                        0.0                        0.0   \n",
       "1                        0.0                        0.0   \n",
       "2                        0.0                        0.0   \n",
       "3                        0.0                        0.0   \n",
       "4                        0.0                        0.0   \n",
       "\n",
       "   AMT_REQ_CREDIT_BUREAU_WEEK  AMT_REQ_CREDIT_BUREAU_YEAR  ...  \\\n",
       "0                         0.0                         1.0  ...   \n",
       "1                         0.0                         0.0  ...   \n",
       "2                         0.0                         0.0  ...   \n",
       "3                         0.0                         1.0  ...   \n",
       "4                         0.0                         0.0  ...   \n",
       "\n",
       "   TOTALAREA_MODE  WALLSMATERIAL_MODE  WEEKDAY_APPR_PROCESS_START  \\\n",
       "0        0.014900             64815.0                       51934   \n",
       "1        0.071411              9253.0                       50714   \n",
       "2        0.068970             64815.0                       50714   \n",
       "3        0.068970             64815.0                       51934   \n",
       "4        0.068970             64815.0                       50591   \n",
       "\n",
       "   YEARS_BEGINEXPLUATATION_AVG  YEARS_BEGINEXPLUATATION_MEDI  \\\n",
       "0                     0.972168                      0.972168   \n",
       "1                     0.984863                      0.984863   \n",
       "2                     0.981445                      0.981445   \n",
       "3                     0.981445                      0.981445   \n",
       "4                     0.981445                      0.981445   \n",
       "\n",
       "   YEARS_BEGINEXPLUATATION_MODE  YEARS_BUILD_AVG  YEARS_BUILD_MEDI  \\\n",
       "0                      0.972168         0.619141          0.624512   \n",
       "1                      0.984863         0.795898          0.798828   \n",
       "2                      0.981445         0.755371          0.758301   \n",
       "3                      0.981445         0.755371          0.758301   \n",
       "4                      0.981445         0.755371          0.758301   \n",
       "\n",
       "   YEARS_BUILD_MODE  TARGET  \n",
       "0          0.634277     1.0  \n",
       "1          0.804199     0.0  \n",
       "2          0.764648     0.0  \n",
       "3          0.764648     0.0  \n",
       "4          0.764648     0.0  \n",
       "\n",
       "[5 rows x 305 columns]"
      ]
     },
     "execution_count": 5,
     "metadata": {},
     "output_type": "execute_result"
    }
   ],
   "source": [
    "data.head()"
   ]
  },
  {
   "cell_type": "code",
   "execution_count": 6,
   "metadata": {},
   "outputs": [],
   "source": [
    "#split ke data training dan testing\n",
    "#karena yang akan divisualisasi hanya data training\n",
    "data_train = data[:307511]"
   ]
  },
  {
   "cell_type": "code",
   "execution_count": 7,
   "metadata": {},
   "outputs": [
    {
     "data": {
      "text/plain": [
       "(307511, 305)"
      ]
     },
     "execution_count": 7,
     "metadata": {},
     "output_type": "execute_result"
    }
   ],
   "source": [
    "data_train.shape"
   ]
  },
  {
   "cell_type": "code",
   "execution_count": 8,
   "metadata": {},
   "outputs": [],
   "source": [
    "data_test = data[307511:]"
   ]
  },
  {
   "cell_type": "code",
   "execution_count": 9,
   "metadata": {},
   "outputs": [
    {
     "data": {
      "text/plain": [
       "(48744, 305)"
      ]
     },
     "execution_count": 9,
     "metadata": {},
     "output_type": "execute_result"
    }
   ],
   "source": [
    "data_test.shape"
   ]
  },
  {
   "cell_type": "markdown",
   "metadata": {},
   "source": [
    "## 2. Visualisasi Data Training"
   ]
  },
  {
   "cell_type": "code",
   "execution_count": 10,
   "metadata": {
    "scrolled": true
   },
   "outputs": [
    {
     "data": {
      "text/html": [
       "<div>\n",
       "<style scoped>\n",
       "    .dataframe tbody tr th:only-of-type {\n",
       "        vertical-align: middle;\n",
       "    }\n",
       "\n",
       "    .dataframe tbody tr th {\n",
       "        vertical-align: top;\n",
       "    }\n",
       "\n",
       "    .dataframe thead th {\n",
       "        text-align: right;\n",
       "    }\n",
       "</style>\n",
       "<table border=\"1\" class=\"dataframe\">\n",
       "  <thead>\n",
       "    <tr style=\"text-align: right;\">\n",
       "      <th></th>\n",
       "      <th>AMT_ANNUITY</th>\n",
       "      <th>AMT_CREDIT</th>\n",
       "      <th>AMT_GOODS_PRICE</th>\n",
       "      <th>AMT_INCOME_TOTAL</th>\n",
       "      <th>AMT_REQ_CREDIT_BUREAU_DAY</th>\n",
       "      <th>AMT_REQ_CREDIT_BUREAU_HOUR</th>\n",
       "      <th>AMT_REQ_CREDIT_BUREAU_MON</th>\n",
       "      <th>AMT_REQ_CREDIT_BUREAU_QRT</th>\n",
       "      <th>AMT_REQ_CREDIT_BUREAU_WEEK</th>\n",
       "      <th>AMT_REQ_CREDIT_BUREAU_YEAR</th>\n",
       "      <th>...</th>\n",
       "      <th>TOTALAREA_MODE</th>\n",
       "      <th>WALLSMATERIAL_MODE</th>\n",
       "      <th>WEEKDAY_APPR_PROCESS_START</th>\n",
       "      <th>YEARS_BEGINEXPLUATATION_AVG</th>\n",
       "      <th>YEARS_BEGINEXPLUATATION_MEDI</th>\n",
       "      <th>YEARS_BEGINEXPLUATATION_MODE</th>\n",
       "      <th>YEARS_BUILD_AVG</th>\n",
       "      <th>YEARS_BUILD_MEDI</th>\n",
       "      <th>YEARS_BUILD_MODE</th>\n",
       "      <th>TARGET</th>\n",
       "    </tr>\n",
       "  </thead>\n",
       "  <tbody>\n",
       "    <tr>\n",
       "      <th>0</th>\n",
       "      <td>24700.5</td>\n",
       "      <td>406597.5</td>\n",
       "      <td>351000.0</td>\n",
       "      <td>202500.0</td>\n",
       "      <td>0.0</td>\n",
       "      <td>0.0</td>\n",
       "      <td>0.0</td>\n",
       "      <td>0.0</td>\n",
       "      <td>0.0</td>\n",
       "      <td>1.0</td>\n",
       "      <td>...</td>\n",
       "      <td>0.014900</td>\n",
       "      <td>64815.0</td>\n",
       "      <td>51934</td>\n",
       "      <td>0.972168</td>\n",
       "      <td>0.972168</td>\n",
       "      <td>0.972168</td>\n",
       "      <td>0.619141</td>\n",
       "      <td>0.624512</td>\n",
       "      <td>0.634277</td>\n",
       "      <td>1.0</td>\n",
       "    </tr>\n",
       "    <tr>\n",
       "      <th>1</th>\n",
       "      <td>35698.5</td>\n",
       "      <td>1293502.5</td>\n",
       "      <td>1129500.0</td>\n",
       "      <td>270000.0</td>\n",
       "      <td>0.0</td>\n",
       "      <td>0.0</td>\n",
       "      <td>0.0</td>\n",
       "      <td>0.0</td>\n",
       "      <td>0.0</td>\n",
       "      <td>0.0</td>\n",
       "      <td>...</td>\n",
       "      <td>0.071411</td>\n",
       "      <td>9253.0</td>\n",
       "      <td>50714</td>\n",
       "      <td>0.984863</td>\n",
       "      <td>0.984863</td>\n",
       "      <td>0.984863</td>\n",
       "      <td>0.795898</td>\n",
       "      <td>0.798828</td>\n",
       "      <td>0.804199</td>\n",
       "      <td>0.0</td>\n",
       "    </tr>\n",
       "    <tr>\n",
       "      <th>2</th>\n",
       "      <td>6750.0</td>\n",
       "      <td>135000.0</td>\n",
       "      <td>135000.0</td>\n",
       "      <td>67500.0</td>\n",
       "      <td>0.0</td>\n",
       "      <td>0.0</td>\n",
       "      <td>0.0</td>\n",
       "      <td>0.0</td>\n",
       "      <td>0.0</td>\n",
       "      <td>0.0</td>\n",
       "      <td>...</td>\n",
       "      <td>0.068970</td>\n",
       "      <td>64815.0</td>\n",
       "      <td>50714</td>\n",
       "      <td>0.981445</td>\n",
       "      <td>0.981445</td>\n",
       "      <td>0.981445</td>\n",
       "      <td>0.755371</td>\n",
       "      <td>0.758301</td>\n",
       "      <td>0.764648</td>\n",
       "      <td>0.0</td>\n",
       "    </tr>\n",
       "    <tr>\n",
       "      <th>3</th>\n",
       "      <td>29686.5</td>\n",
       "      <td>312682.5</td>\n",
       "      <td>297000.0</td>\n",
       "      <td>135000.0</td>\n",
       "      <td>0.0</td>\n",
       "      <td>0.0</td>\n",
       "      <td>0.0</td>\n",
       "      <td>0.0</td>\n",
       "      <td>0.0</td>\n",
       "      <td>1.0</td>\n",
       "      <td>...</td>\n",
       "      <td>0.068970</td>\n",
       "      <td>64815.0</td>\n",
       "      <td>51934</td>\n",
       "      <td>0.981445</td>\n",
       "      <td>0.981445</td>\n",
       "      <td>0.981445</td>\n",
       "      <td>0.755371</td>\n",
       "      <td>0.758301</td>\n",
       "      <td>0.764648</td>\n",
       "      <td>0.0</td>\n",
       "    </tr>\n",
       "    <tr>\n",
       "      <th>4</th>\n",
       "      <td>21865.5</td>\n",
       "      <td>513000.0</td>\n",
       "      <td>513000.0</td>\n",
       "      <td>121500.0</td>\n",
       "      <td>0.0</td>\n",
       "      <td>0.0</td>\n",
       "      <td>0.0</td>\n",
       "      <td>0.0</td>\n",
       "      <td>0.0</td>\n",
       "      <td>0.0</td>\n",
       "      <td>...</td>\n",
       "      <td>0.068970</td>\n",
       "      <td>64815.0</td>\n",
       "      <td>50591</td>\n",
       "      <td>0.981445</td>\n",
       "      <td>0.981445</td>\n",
       "      <td>0.981445</td>\n",
       "      <td>0.755371</td>\n",
       "      <td>0.758301</td>\n",
       "      <td>0.764648</td>\n",
       "      <td>0.0</td>\n",
       "    </tr>\n",
       "  </tbody>\n",
       "</table>\n",
       "<p>5 rows × 305 columns</p>\n",
       "</div>"
      ],
      "text/plain": [
       "   AMT_ANNUITY  AMT_CREDIT  AMT_GOODS_PRICE  AMT_INCOME_TOTAL  \\\n",
       "0      24700.5    406597.5         351000.0          202500.0   \n",
       "1      35698.5   1293502.5        1129500.0          270000.0   \n",
       "2       6750.0    135000.0         135000.0           67500.0   \n",
       "3      29686.5    312682.5         297000.0          135000.0   \n",
       "4      21865.5    513000.0         513000.0          121500.0   \n",
       "\n",
       "   AMT_REQ_CREDIT_BUREAU_DAY  AMT_REQ_CREDIT_BUREAU_HOUR  \\\n",
       "0                        0.0                         0.0   \n",
       "1                        0.0                         0.0   \n",
       "2                        0.0                         0.0   \n",
       "3                        0.0                         0.0   \n",
       "4                        0.0                         0.0   \n",
       "\n",
       "   AMT_REQ_CREDIT_BUREAU_MON  AMT_REQ_CREDIT_BUREAU_QRT  \\\n",
       "0                        0.0                        0.0   \n",
       "1                        0.0                        0.0   \n",
       "2                        0.0                        0.0   \n",
       "3                        0.0                        0.0   \n",
       "4                        0.0                        0.0   \n",
       "\n",
       "   AMT_REQ_CREDIT_BUREAU_WEEK  AMT_REQ_CREDIT_BUREAU_YEAR  ...  \\\n",
       "0                         0.0                         1.0  ...   \n",
       "1                         0.0                         0.0  ...   \n",
       "2                         0.0                         0.0  ...   \n",
       "3                         0.0                         1.0  ...   \n",
       "4                         0.0                         0.0  ...   \n",
       "\n",
       "   TOTALAREA_MODE  WALLSMATERIAL_MODE  WEEKDAY_APPR_PROCESS_START  \\\n",
       "0        0.014900             64815.0                       51934   \n",
       "1        0.071411              9253.0                       50714   \n",
       "2        0.068970             64815.0                       50714   \n",
       "3        0.068970             64815.0                       51934   \n",
       "4        0.068970             64815.0                       50591   \n",
       "\n",
       "   YEARS_BEGINEXPLUATATION_AVG  YEARS_BEGINEXPLUATATION_MEDI  \\\n",
       "0                     0.972168                      0.972168   \n",
       "1                     0.984863                      0.984863   \n",
       "2                     0.981445                      0.981445   \n",
       "3                     0.981445                      0.981445   \n",
       "4                     0.981445                      0.981445   \n",
       "\n",
       "   YEARS_BEGINEXPLUATATION_MODE  YEARS_BUILD_AVG  YEARS_BUILD_MEDI  \\\n",
       "0                      0.972168         0.619141          0.624512   \n",
       "1                      0.984863         0.795898          0.798828   \n",
       "2                      0.981445         0.755371          0.758301   \n",
       "3                      0.981445         0.755371          0.758301   \n",
       "4                      0.981445         0.755371          0.758301   \n",
       "\n",
       "   YEARS_BUILD_MODE  TARGET  \n",
       "0          0.634277     1.0  \n",
       "1          0.804199     0.0  \n",
       "2          0.764648     0.0  \n",
       "3          0.764648     0.0  \n",
       "4          0.764648     0.0  \n",
       "\n",
       "[5 rows x 305 columns]"
      ]
     },
     "execution_count": 10,
     "metadata": {},
     "output_type": "execute_result"
    }
   ],
   "source": [
    "data_train.head()"
   ]
  },
  {
   "cell_type": "code",
   "execution_count": 11,
   "metadata": {},
   "outputs": [
    {
     "name": "stdout",
     "output_type": "stream",
     "text": [
      "AMT_ANNUITY\n",
      "AMT_CREDIT\n",
      "AMT_GOODS_PRICE\n",
      "AMT_INCOME_TOTAL\n",
      "AMT_REQ_CREDIT_BUREAU_DAY\n",
      "AMT_REQ_CREDIT_BUREAU_HOUR\n",
      "AMT_REQ_CREDIT_BUREAU_MON\n",
      "AMT_REQ_CREDIT_BUREAU_QRT\n",
      "AMT_REQ_CREDIT_BUREAU_WEEK\n",
      "AMT_REQ_CREDIT_BUREAU_YEAR\n",
      "APARTMENTS_AVG\n",
      "APARTMENTS_MEDI\n",
      "APARTMENTS_MODE\n",
      "BASEMENTAREA_AVG\n",
      "BASEMENTAREA_MEDI\n",
      "BASEMENTAREA_MODE\n",
      "Bureau_AMT_ANNUITY\n",
      "Bureau_AMT_CREDIT_MAX_OVERDUE\n",
      "Bureau_AMT_CREDIT_SUM\n",
      "Bureau_AMT_CREDIT_SUM_DEBT\n",
      "Bureau_AMT_CREDIT_SUM_LIMIT\n",
      "Bureau_AMT_CREDIT_SUM_OVERDUE\n",
      "Bureau_Balance_MONTHS_BALANCE\n",
      "Bureau_Balance_STATUS_0\n",
      "Bureau_Balance_STATUS_1\n",
      "Bureau_Balance_STATUS_5\n",
      "Bureau_Balance_STATUS_C\n",
      "Bureau_Balance_STATUS_X\n",
      "Bureau_CNT_CREDIT_PROLONG\n",
      "Bureau_CREDIT_ACTIVE\n",
      "Bureau_CREDIT_CURRENCY\n",
      "Bureau_CREDIT_DAY_OVERDUE\n",
      "Bureau_CREDIT_TYPE\n",
      "Bureau_DAYS_CREDIT\n",
      "Bureau_DAYS_CREDIT_ENDDATE\n",
      "Bureau_DAYS_CREDIT_UPDATE\n",
      "Bureau_DAYS_ENDDATE_FACT\n",
      "CNT_CHILDREN\n",
      "CNT_FAM_MEMBERS\n",
      "CODE_GENDER\n",
      "COMMONAREA_AVG\n",
      "COMMONAREA_MEDI\n",
      "COMMONAREA_MODE\n",
      "DAYS_BIRTH\n",
      "DAYS_EMPLOYED\n",
      "DAYS_ID_PUBLISH\n",
      "DAYS_LAST_PHONE_CHANGE\n",
      "DAYS_REGISTRATION\n",
      "DEF_30_CNT_SOCIAL_CIRCLE\n",
      "DEF_60_CNT_SOCIAL_CIRCLE\n",
      "ELEVATORS_AVG\n",
      "ELEVATORS_MEDI\n",
      "ELEVATORS_MODE\n",
      "EMERGENCYSTATE_MODE\n",
      "ENTRANCES_AVG\n",
      "ENTRANCES_MEDI\n",
      "ENTRANCES_MODE\n",
      "EXT_SOURCE_1\n",
      "EXT_SOURCE_2\n",
      "EXT_SOURCE_3\n",
      "FLAG_CONT_MOBILE\n",
      "FLAG_DOCUMENT_11\n",
      "FLAG_DOCUMENT_13\n",
      "FLAG_DOCUMENT_14\n",
      "FLAG_DOCUMENT_15\n",
      "FLAG_DOCUMENT_16\n",
      "FLAG_DOCUMENT_17\n",
      "FLAG_DOCUMENT_18\n",
      "FLAG_DOCUMENT_19\n",
      "FLAG_DOCUMENT_20\n",
      "FLAG_DOCUMENT_21\n",
      "FLAG_DOCUMENT_3\n",
      "FLAG_DOCUMENT_5\n",
      "FLAG_DOCUMENT_6\n",
      "FLAG_DOCUMENT_7\n",
      "FLAG_DOCUMENT_8\n",
      "FLAG_DOCUMENT_9\n",
      "FLAG_EMAIL\n",
      "FLAG_EMP_PHONE\n",
      "FLAG_OWN_CAR\n",
      "FLAG_OWN_REALTY\n",
      "FLAG_PHONE\n",
      "FLAG_WORK_PHONE\n",
      "FLOORSMAX_AVG\n",
      "FLOORSMAX_MEDI\n",
      "FLOORSMAX_MODE\n",
      "FLOORSMIN_AVG\n",
      "FLOORSMIN_MEDI\n",
      "FLOORSMIN_MODE\n",
      "FONDKAPREMONT_MODE\n",
      "HOUR_APPR_PROCESS_START\n",
      "HOUSETYPE_MODE\n",
      "LANDAREA_AVG\n",
      "LANDAREA_MEDI\n",
      "LANDAREA_MODE\n",
      "LIVE_CITY_NOT_WORK_CITY\n",
      "LIVE_REGION_NOT_WORK_REGION\n",
      "LIVINGAPARTMENTS_AVG\n",
      "LIVINGAPARTMENTS_MEDI\n",
      "LIVINGAPARTMENTS_MODE\n",
      "LIVINGAREA_AVG\n",
      "LIVINGAREA_MEDI\n",
      "LIVINGAREA_MODE\n",
      "NAME_CONTRACT_TYPE\n",
      "NAME_EDUCATION_TYPE\n",
      "NAME_FAMILY_STATUS\n",
      "NAME_HOUSING_TYPE\n",
      "NAME_INCOME_TYPE\n",
      "NAME_TYPE_SUITE\n",
      "NONLIVINGAPARTMENTS_AVG\n",
      "NONLIVINGAPARTMENTS_MEDI\n",
      "NONLIVINGAPARTMENTS_MODE\n",
      "NONLIVINGAREA_AVG\n",
      "NONLIVINGAREA_MEDI\n",
      "NONLIVINGAREA_MODE\n",
      "OBS_30_CNT_SOCIAL_CIRCLE\n",
      "OBS_60_CNT_SOCIAL_CIRCLE\n",
      "OCCUPATION_TYPE\n",
      "ORGANIZATION_TYPE\n",
      "OWN_CAR_AGE\n",
      "Prev_AMT_ANNUITY\n",
      "Prev_AMT_APPLICATION\n",
      "Prev_AMT_CREDIT\n",
      "Prev_AMT_DOWN_PAYMENT\n",
      "Prev_AMT_GOODS_PRICE\n",
      "Prev_CCB_AMT_BALANCE\n",
      "Prev_CCB_AMT_CREDIT_LIMIT_ACTUAL\n",
      "Prev_CCB_AMT_DRAWINGS_CURRENT\n",
      "Prev_CCB_AMT_INST_MIN_REGULARITY\n",
      "Prev_CCB_AMT_PAYMENT_TOTAL_CURRENT\n",
      "Prev_CCB_AMT_RECEIVABLE_PRINCIPAL\n",
      "Prev_CCB_AMT_RECIVABLE\n",
      "Prev_CCB_AMT_TOTAL_RECEIVABLE\n",
      "Prev_CCB_CNT_DRAWINGS_CURRENT\n",
      "Prev_CCB_CNT_INSTALMENT_MATURE_CUM\n",
      "Prev_CCB_MONTHS_BALANCE\n",
      "Prev_CCB_NAME_CONTRACT_STATUS\n",
      "Prev_CCB_SK_DPD\n",
      "Prev_CCB_SK_DPD_DEF\n",
      "Prev_CHANNEL_TYPE_AP+ (Cash loan)\n",
      "Prev_CHANNEL_TYPE_Channel of corporate sales\n",
      "Prev_CHANNEL_TYPE_Contact center\n",
      "Prev_CHANNEL_TYPE_Country-wide\n",
      "Prev_CHANNEL_TYPE_Credit and cash offices\n",
      "Prev_CHANNEL_TYPE_Regional / Local\n",
      "Prev_CHANNEL_TYPE_Stone\n",
      "Prev_CNT_PAYMENT\n",
      "Prev_CODE_REJECT_REASON_CLIENT\n",
      "Prev_CODE_REJECT_REASON_HC\n",
      "Prev_CODE_REJECT_REASON_LIMIT\n",
      "Prev_CODE_REJECT_REASON_SCO\n",
      "Prev_CODE_REJECT_REASON_SCOFR\n",
      "Prev_CODE_REJECT_REASON_SYSTEM\n",
      "Prev_CODE_REJECT_REASON_VERIF\n",
      "Prev_CODE_REJECT_REASON_XAP\n",
      "Prev_CODE_REJECT_REASON_XNA\n",
      "Prev_DAYS_DECISION\n",
      "Prev_DAYS_FIRST_DRAWING\n",
      "Prev_DAYS_FIRST_DUE\n",
      "Prev_DAYS_LAST_DUE\n",
      "Prev_DAYS_LAST_DUE_1ST_VERSION\n",
      "Prev_DAYS_TERMINATION\n",
      "Prev_HOUR_APPR_PROCESS_START\n",
      "Prev_IP_AMT_INSTALMENT\n",
      "Prev_IP_AMT_PAYMENT\n",
      "Prev_IP_DAYS_ENTRY_PAYMENT\n",
      "Prev_IP_DAYS_INSTALMENT\n",
      "Prev_IP_NUM_INSTALMENT_NUMBER\n",
      "Prev_IP_NUM_INSTALMENT_VERSION\n",
      "Prev_NAME_CASH_LOAN_PURPOSE_Building a house or an annex\n",
      "Prev_NAME_CASH_LOAN_PURPOSE_Buying a home\n",
      "Prev_NAME_CASH_LOAN_PURPOSE_Buying a new car\n",
      "Prev_NAME_CASH_LOAN_PURPOSE_Buying a used car\n",
      "Prev_NAME_CASH_LOAN_PURPOSE_Car repairs\n",
      "Prev_NAME_CASH_LOAN_PURPOSE_Education\n",
      "Prev_NAME_CASH_LOAN_PURPOSE_Everyday expenses\n",
      "Prev_NAME_CASH_LOAN_PURPOSE_Furniture\n",
      "Prev_NAME_CASH_LOAN_PURPOSE_Journey\n",
      "Prev_NAME_CASH_LOAN_PURPOSE_Medicine\n",
      "Prev_NAME_CASH_LOAN_PURPOSE_Other\n",
      "Prev_NAME_CASH_LOAN_PURPOSE_Payments on other loans\n",
      "Prev_NAME_CASH_LOAN_PURPOSE_Purchase of electronic equipment\n",
      "Prev_NAME_CASH_LOAN_PURPOSE_Repairs\n",
      "Prev_NAME_CASH_LOAN_PURPOSE_Urgent needs\n",
      "Prev_NAME_CASH_LOAN_PURPOSE_Wedding / gift / holiday\n",
      "Prev_NAME_CASH_LOAN_PURPOSE_XAP\n",
      "Prev_NAME_CASH_LOAN_PURPOSE_XNA\n",
      "Prev_NAME_CLIENT_TYPE_New\n",
      "Prev_NAME_CLIENT_TYPE_Refreshed\n",
      "Prev_NAME_CLIENT_TYPE_Repeater\n",
      "Prev_NAME_CLIENT_TYPE_XNA\n",
      "Prev_NAME_CONTRACT_STATUS_Approved\n",
      "Prev_NAME_CONTRACT_STATUS_Canceled\n",
      "Prev_NAME_CONTRACT_STATUS_Refused\n",
      "Prev_NAME_CONTRACT_STATUS_Unused offer\n",
      "Prev_NAME_CONTRACT_TYPE_Cash loans\n",
      "Prev_NAME_CONTRACT_TYPE_Consumer loans\n",
      "Prev_NAME_CONTRACT_TYPE_Revolving loans\n",
      "Prev_NAME_GOODS_CATEGORY_Audio/Video\n",
      "Prev_NAME_GOODS_CATEGORY_Auto Accessories\n",
      "Prev_NAME_GOODS_CATEGORY_Clothing and Accessories\n",
      "Prev_NAME_GOODS_CATEGORY_Computers\n",
      "Prev_NAME_GOODS_CATEGORY_Construction Materials\n",
      "Prev_NAME_GOODS_CATEGORY_Consumer Electronics\n",
      "Prev_NAME_GOODS_CATEGORY_Direct Sales\n",
      "Prev_NAME_GOODS_CATEGORY_Furniture\n",
      "Prev_NAME_GOODS_CATEGORY_Gardening\n",
      "Prev_NAME_GOODS_CATEGORY_Homewares\n",
      "Prev_NAME_GOODS_CATEGORY_Jewelry\n",
      "Prev_NAME_GOODS_CATEGORY_Medical Supplies\n",
      "Prev_NAME_GOODS_CATEGORY_Medicine\n",
      "Prev_NAME_GOODS_CATEGORY_Mobile\n",
      "Prev_NAME_GOODS_CATEGORY_Office Appliances\n",
      "Prev_NAME_GOODS_CATEGORY_Other\n",
      "Prev_NAME_GOODS_CATEGORY_Photo / Cinema Equipment\n",
      "Prev_NAME_GOODS_CATEGORY_Sport and Leisure\n",
      "Prev_NAME_GOODS_CATEGORY_Tourism\n",
      "Prev_NAME_GOODS_CATEGORY_Vehicles\n",
      "Prev_NAME_GOODS_CATEGORY_XNA\n",
      "Prev_NAME_PAYMENT_TYPE_Cash through the bank\n",
      "Prev_NAME_PAYMENT_TYPE_Cashless from the account of the employer\n",
      "Prev_NAME_PAYMENT_TYPE_Non-cash from your account\n",
      "Prev_NAME_PAYMENT_TYPE_XNA\n",
      "Prev_NAME_PORTFOLIO_Cards\n",
      "Prev_NAME_PORTFOLIO_Cash\n",
      "Prev_NAME_PORTFOLIO_POS\n",
      "Prev_NAME_PORTFOLIO_XNA\n",
      "Prev_NAME_PRODUCT_TYPE_XNA\n",
      "Prev_NAME_PRODUCT_TYPE_walk-in\n",
      "Prev_NAME_PRODUCT_TYPE_x-sell\n",
      "Prev_NAME_SELLER_INDUSTRY_Auto technology\n",
      "Prev_NAME_SELLER_INDUSTRY_Clothing\n",
      "Prev_NAME_SELLER_INDUSTRY_Connectivity\n",
      "Prev_NAME_SELLER_INDUSTRY_Construction\n",
      "Prev_NAME_SELLER_INDUSTRY_Consumer electronics\n",
      "Prev_NAME_SELLER_INDUSTRY_Furniture\n",
      "Prev_NAME_SELLER_INDUSTRY_Industry\n",
      "Prev_NAME_SELLER_INDUSTRY_Jewelry\n",
      "Prev_NAME_SELLER_INDUSTRY_MLM partners\n",
      "Prev_NAME_SELLER_INDUSTRY_Tourism\n",
      "Prev_NAME_SELLER_INDUSTRY_XNA\n",
      "Prev_NAME_TYPE_SUITE_Children\n",
      "Prev_NAME_TYPE_SUITE_Family\n",
      "Prev_NAME_TYPE_SUITE_Group of people\n",
      "Prev_NAME_TYPE_SUITE_Other_A\n",
      "Prev_NAME_TYPE_SUITE_Other_B\n",
      "Prev_NAME_TYPE_SUITE_Spouse, partner\n",
      "Prev_NAME_TYPE_SUITE_Unaccompanied\n",
      "Prev_NAME_YIELD_GROUP_XNA\n",
      "Prev_NAME_YIELD_GROUP_high\n",
      "Prev_NAME_YIELD_GROUP_low_action\n",
      "Prev_NAME_YIELD_GROUP_low_normal\n",
      "Prev_NAME_YIELD_GROUP_middle\n",
      "Prev_NFLAG_INSURED_ON_APPROVAL\n",
      "Prev_NFLAG_LAST_APPL_IN_DAY\n",
      "Prev_POS_CNT_INSTALMENT\n",
      "Prev_POS_CNT_INSTALMENT_FUTURE\n",
      "Prev_POS_MONTHS_BALANCE\n",
      "Prev_POS_NAME_CONTRACT_STATUS\n",
      "Prev_POS_SK_DPD\n",
      "Prev_POS_SK_DPD_DEF\n",
      "Prev_PRODUCT_COMBINATION_Card Street\n",
      "Prev_PRODUCT_COMBINATION_Card X-Sell\n",
      "Prev_PRODUCT_COMBINATION_Cash\n",
      "Prev_PRODUCT_COMBINATION_Cash Street: high\n",
      "Prev_PRODUCT_COMBINATION_Cash Street: low\n",
      "Prev_PRODUCT_COMBINATION_Cash Street: middle\n",
      "Prev_PRODUCT_COMBINATION_Cash X-Sell: high\n",
      "Prev_PRODUCT_COMBINATION_Cash X-Sell: low\n",
      "Prev_PRODUCT_COMBINATION_Cash X-Sell: middle\n",
      "Prev_PRODUCT_COMBINATION_POS household with interest\n",
      "Prev_PRODUCT_COMBINATION_POS household without interest\n",
      "Prev_PRODUCT_COMBINATION_POS industry with interest\n",
      "Prev_PRODUCT_COMBINATION_POS industry without interest\n",
      "Prev_PRODUCT_COMBINATION_POS mobile with interest\n",
      "Prev_PRODUCT_COMBINATION_POS mobile without interest\n",
      "Prev_PRODUCT_COMBINATION_POS other with interest\n",
      "Prev_PRODUCT_COMBINATION_POS others without interest\n",
      "Prev_RATE_DOWN_PAYMENT\n",
      "Prev_SELLERPLACE_AREA\n",
      "Prev_WEEKDAY_APPR_PROCESS_START_FRIDAY\n",
      "Prev_WEEKDAY_APPR_PROCESS_START_MONDAY\n",
      "Prev_WEEKDAY_APPR_PROCESS_START_SATURDAY\n",
      "Prev_WEEKDAY_APPR_PROCESS_START_SUNDAY\n",
      "Prev_WEEKDAY_APPR_PROCESS_START_THURSDAY\n",
      "Prev_WEEKDAY_APPR_PROCESS_START_TUESDAY\n",
      "Prev_WEEKDAY_APPR_PROCESS_START_WEDNESDAY\n",
      "REGION_POPULATION_RELATIVE\n",
      "REGION_RATING_CLIENT\n",
      "REGION_RATING_CLIENT_W_CITY\n",
      "REG_CITY_NOT_LIVE_CITY\n",
      "REG_CITY_NOT_WORK_CITY\n",
      "REG_REGION_NOT_LIVE_REGION\n",
      "REG_REGION_NOT_WORK_REGION\n",
      "SK_ID_CURR\n",
      "TOTALAREA_MODE\n",
      "WALLSMATERIAL_MODE\n",
      "WEEKDAY_APPR_PROCESS_START\n",
      "YEARS_BEGINEXPLUATATION_AVG\n",
      "YEARS_BEGINEXPLUATATION_MEDI\n",
      "YEARS_BEGINEXPLUATATION_MODE\n",
      "YEARS_BUILD_AVG\n",
      "YEARS_BUILD_MEDI\n",
      "YEARS_BUILD_MODE\n",
      "TARGET\n"
     ]
    }
   ],
   "source": [
    "for columns in data_train.columns:\n",
    "    print(columns)"
   ]
  },
  {
   "cell_type": "markdown",
   "metadata": {},
   "source": [
    "### 2.1 Distribusi dari Target"
   ]
  },
  {
   "cell_type": "code",
   "execution_count": 12,
   "metadata": {},
   "outputs": [
    {
     "data": {
      "text/plain": [
       "<matplotlib.axes._subplots.AxesSubplot at 0x1ec8bf1d630>"
      ]
     },
     "execution_count": 12,
     "metadata": {},
     "output_type": "execute_result"
    },
    {
     "data": {
      "image/png": "[encoded data removed]",
      "text/plain": [
       "<Figure size 432x288 with 1 Axes>"
      ]
     },
     "metadata": {
      "needs_background": "light"
     },
     "output_type": "display_data"
    }
   ],
   "source": [
    "sns.countplot(data_train['TARGET'], color='blue')"
   ]
  },
  {
   "cell_type": "markdown",
   "metadata": {},
   "source": [
    "- Dari data diatas dapat dilihat bahwa target imbalance.\n",
    "- perlu dilakukan treatment sebelum modelling."
   ]
  },
  {
   "cell_type": "markdown",
   "metadata": {},
   "source": [
    "### 2.2 Distribusi dari Gender"
   ]
  },
  {
   "cell_type": "code",
   "execution_count": 14,
   "metadata": {},
   "outputs": [
    {
     "data": {
      "text/plain": [
       "<matplotlib.axes._subplots.AxesSubplot at 0x1ecc6c40b00>"
      ]
     },
     "execution_count": 14,
     "metadata": {},
     "output_type": "execute_result"
    },
    {
     "data": {
      "image/png": "[encoded data removed]",
      "text/plain": [
       "<Figure size 432x288 with 1 Axes>"
      ]
     },
     "metadata": {
      "needs_background": "light"
     },
     "output_type": "display_data"
    }
   ],
   "source": [
    "sns.countplot(data_train['CODE_GENDER'], color='green')"
   ]
  },
  {
   "cell_type": "markdown",
   "metadata": {},
   "source": [
    "- Nilai 0 untuk wanita dan 1 untuk laki-laki.\n",
    "- Dapat dilihat ternyata wanita lebih banyak meminjam credit dari laki-laki."
   ]
  },
  {
   "cell_type": "markdown",
   "metadata": {},
   "source": [
    "## 2.3 Distribusi dari Income Total Client"
   ]
  },
  {
   "cell_type": "code",
   "execution_count": 15,
   "metadata": {},
   "outputs": [
    {
     "data": {
      "text/plain": [
       "<matplotlib.axes._subplots.AxesSubplot at 0x1ec8f41a588>"
      ]
     },
     "execution_count": 15,
     "metadata": {},
     "output_type": "execute_result"
    },
    {
     "data": {
      "image/png": "[encoded data removed]",
      "text/plain": [
       "<Figure size 432x288 with 1 Axes>"
      ]
     },
     "metadata": {
      "needs_background": "light"
     },
     "output_type": "display_data"
    }
   ],
   "source": [
    "sns.distplot(data_train['AMT_INCOME_TOTAL'])"
   ]
  },
  {
   "cell_type": "markdown",
   "metadata": {},
   "source": [
    "- Dari plot diatas ternyata ada outlier di dalam feature income total client"
   ]
  },
  {
   "cell_type": "markdown",
   "metadata": {},
   "source": [
    "### 2.4 Distribusi dari Jumlah Credit"
   ]
  },
  {
   "cell_type": "code",
   "execution_count": 20,
   "metadata": {},
   "outputs": [
    {
     "data": {
      "text/plain": [
       "<matplotlib.axes._subplots.AxesSubplot at 0x1ecf0468940>"
      ]
     },
     "execution_count": 20,
     "metadata": {},
     "output_type": "execute_result"
    },
    {
     "data": {
      "image/png": "[encoded data removed]",
      "text/plain": [
       "<Figure size 432x288 with 1 Axes>"
      ]
     },
     "metadata": {
      "needs_background": "light"
     },
     "output_type": "display_data"
    }
   ],
   "source": [
    "sns.distplot(data_train['AMT_CREDIT'])"
   ]
  },
  {
   "cell_type": "markdown",
   "metadata": {},
   "source": [
    "- Jumlah credit lebih banyak dibawah angka 1000000."
   ]
  },
  {
   "cell_type": "markdown",
   "metadata": {},
   "source": [
    "### 2.5 Distribusi dari Jumlah Loan Annuity"
   ]
  },
  {
   "cell_type": "code",
   "execution_count": 21,
   "metadata": {},
   "outputs": [
    {
     "data": {
      "text/plain": [
       "<matplotlib.axes._subplots.AxesSubplot at 0x1ecf056b780>"
      ]
     },
     "execution_count": 21,
     "metadata": {},
     "output_type": "execute_result"
    },
    {
     "data": {
      "image/png": "[encoded data removed]",
      "text/plain": [
       "<Figure size 432x288 with 1 Axes>"
      ]
     },
     "metadata": {
      "needs_background": "light"
     },
     "output_type": "display_data"
    }
   ],
   "source": [
    "sns.distplot(data_train['AMT_ANNUITY'])"
   ]
  },
  {
   "cell_type": "markdown",
   "metadata": {},
   "source": [
    "- Rata - rata peminjam membayar tagihan dibawah angka 50000"
   ]
  },
  {
   "cell_type": "markdown",
   "metadata": {},
   "source": [
    "### 2.6 Distribusi dari Education Type"
   ]
  },
  {
   "cell_type": "code",
   "execution_count": 24,
   "metadata": {},
   "outputs": [
    {
     "data": {
      "text/plain": [
       "<matplotlib.axes._subplots.AxesSubplot at 0x1ecf030ef60>"
      ]
     },
     "execution_count": 24,
     "metadata": {},
     "output_type": "execute_result"
    },
    {
     "data": {
      "image/png": "[encoded data removed]",
      "text/plain": [
       "<Figure size 432x288 with 1 Axes>"
      ]
     },
     "metadata": {
      "needs_background": "light"
     },
     "output_type": "display_data"
    }
   ],
   "source": [
    "sns.countplot(data_train['NAME_EDUCATION_TYPE'], color='green')"
   ]
  },
  {
   "cell_type": "markdown",
   "metadata": {},
   "source": [
    "- Nilai 218391 adalah untuk secondary school yang paling banyak\n",
    "- Sedangkan nilai 164 adalah untuk Academic degree yang paling kecil"
   ]
  },
  {
   "cell_type": "markdown",
   "metadata": {},
   "source": [
    "### 2.7 Distribusi dari Income Type"
   ]
  },
  {
   "cell_type": "code",
   "execution_count": 27,
   "metadata": {},
   "outputs": [
    {
     "data": {
      "text/plain": [
       "<matplotlib.axes._subplots.AxesSubplot at 0x1ecf074c320>"
      ]
     },
     "execution_count": 27,
     "metadata": {},
     "output_type": "execute_result"
    },
    {
     "data": {
      "image/png": "[encoded data removed]",
      "text/plain": [
       "<Figure size 432x288 with 1 Axes>"
      ]
     },
     "metadata": {
      "needs_background": "light"
     },
     "output_type": "display_data"
    }
   ],
   "source": [
    "sns.countplot(data_train['NAME_INCOME_TYPE'], color='red')"
   ]
  },
  {
   "cell_type": "markdown",
   "metadata": {},
   "source": [
    "- Nilai dari 158774 itu adalah working yang jumlahnya paling banyak.\n",
    "- Sedangkan untuk nilai 10 adalah businessman yang nilainya paling kecil."
   ]
  },
  {
   "cell_type": "code",
   "execution_count": null,
   "metadata": {},
   "outputs": [],
   "source": []
  }
 ],
 "metadata": {
  "kernelspec": {
   "display_name": "Python 3",
   "language": "python",
   "name": "python3"
  },
  "language_info": {
   "codemirror_mode": {
    "name": "ipython",
    "version": 3
   },
   "file_extension": ".py",
   "mimetype": "text/x-python",
   "name": "python",
   "nbconvert_exporter": "python",
   "pygments_lexer": "ipython3",
   "version": "3.7.3"
  }
 },
 "nbformat": 4,
 "nbformat_minor": 2
}
